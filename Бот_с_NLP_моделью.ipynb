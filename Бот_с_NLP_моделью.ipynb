{
  "nbformat": 4,
  "nbformat_minor": 0,
  "metadata": {
    "colab": {
      "provenance": [],
      "authorship_tag": "ABX9TyNtPjIe5ZgggAr/1MykMIsi",
      "include_colab_link": true
    },
    "kernelspec": {
      "name": "python3",
      "display_name": "Python 3"
    },
    "language_info": {
      "name": "python"
    }
  },
  "cells": [
    {
      "cell_type": "markdown",
      "metadata": {
        "id": "view-in-github",
        "colab_type": "text"
      },
      "source": [
        "<a href=\"https://colab.research.google.com/github/ArtuomMerkulov/NLP_-_-_-/blob/main/%D0%91%D0%BE%D1%82_%D1%81_NLP_%D0%BC%D0%BE%D0%B4%D0%B5%D0%BB%D1%8C%D1%8E.ipynb\" target=\"_parent\"><img src=\"https://colab.research.google.com/assets/colab-badge.svg\" alt=\"Open In Colab\"/></a>"
      ]
    },
    {
      "cell_type": "markdown",
      "source": [
        "# NLP_моделью для Telegram_бота"
      ],
      "metadata": {
        "id": "6hCybPH8ZTXj"
      }
    },
    {
      "cell_type": "markdown",
      "source": [
        "## Модель"
      ],
      "metadata": {
        "id": "j8AY_ir0qiPr"
      }
    },
    {
      "cell_type": "markdown",
      "source": [
        "### Подготовка и обучение модели на архитектуре Seg2Seg"
      ],
      "metadata": {
        "id": "FhfHprFtqz4R"
      }
    },
    {
      "cell_type": "code",
      "source": [
        "### 1. Загрузка данных\n",
        "import pandas as pd\n",
        "import numpy as np\n",
        "from tensorflow.keras import utils #Используем для to_categoricall\n",
        "from tensorflow.keras.utils import to_categorical\n",
        "\n",
        "# Загрузка диалогов из CSV-файла в DataFrame\n",
        "dataframe = pd.read_csv('dialogue_dataset.csv')\n",
        "questions = dataframe['question'].values\n",
        "answers = dataframe['answer'].values\n",
        "\n",
        "### 2. Предварительная обработка данных\n",
        "from keras.preprocessing.text import Tokenizer\n",
        "from keras.preprocessing.sequence import pad_sequences\n",
        "\n",
        "# Токенизация вопросов и ответов\n",
        "tokenizer = Tokenizer()\n",
        "tokenizer.fit_on_texts(questions + answers)\n",
        "tokenized_questions = tokenizer.texts_to_sequences(questions)\n",
        "tokenized_answers = tokenizer.texts_to_sequences(answers)\n",
        "\n",
        "# Выравнивание последовательностей и создание словарей\n",
        "maxlen_questions = max([len(x) for x in tokenized_questions])\n",
        "maxlen_answers = max([len(x) for x in tokenized_answers])\n",
        "\n",
        "encoder_input_data = pad_sequences(tokenized_questions, maxlen=maxlen_questions, padding='post')\n",
        "decoder_input_data = pad_sequences(tokenized_answers, maxlen=maxlen_answers, padding='post')\n",
        "\n",
        "# Подготовка целевых данных для декодера (сдвиг на один шаг вперед)\n",
        "decoder_target_data = np.zeros_like(decoder_input_data)\n",
        "decoder_target_data[:, 0:-1] = decoder_input_data[:, 1:]\n",
        "decoder_target_data = to_categorical(decoder_target_data, num_classes=len(tokenizer.word_index) + 1)\n",
        "\n",
        "# Словари слова в индекс и индекс в слово\n",
        "word_to_index = tokenizer.word_index\n",
        "index_to_word = dict((i, word) for word, i in word_to_index.items())\n",
        "\n",
        "### 3. Разделение данных на обучающую и тестовую выборки\n",
        "from sklearn.model_selection import train_test_split\n",
        "\n",
        "# Деление на обучающую и проверочную выборки\n",
        "encoder_input_train, encoder_input_test, decoder_input_train, decoder_input_test, decoder_target_train, decoder_target_test = train_test_split(encoder_input_data, decoder_input_data, decoder_target_data, test_size=0.2)\n",
        "\n",
        "### 4. Построение модели `Seq2Seq`\n",
        "from keras.layers import Input, LSTM, Dense, Embedding\n",
        "from keras.models import Model\n",
        "\n",
        "# Параметры модели\n",
        "embedding_dim = 128\n",
        "units = 256\n",
        "\n",
        "# Энкодер\n",
        "encoder_inputs = Input(shape=(None,))\n",
        "encoder_embedding = Embedding(len(word_to_index) + 1, embedding_dim)(encoder_inputs)\n",
        "encoder_lstm = LSTM(units, return_state=True)\n",
        "encoder_outputs, state_h, state_c = encoder_lstm(encoder_embedding)\n",
        "encoder_states = [state_h, state_c]\n",
        "\n",
        "# Декодер\n",
        "decoder_inputs = Input(shape=(None,))\n",
        "decoder_embedding = Embedding(len(word_to_index) + 1, embedding_dim)(decoder_inputs)\n",
        "decoder_lstm = LSTM(units, return_sequences=True, return_state=True)\n",
        "decoder_outputs, _, _ = decoder_lstm(decoder_embedding, initial_state=encoder_states)\n",
        "decoder_dense = Dense(len(word_to_index) + 1, activation='softmax')\n",
        "decoder_outputs = decoder_dense(decoder_outputs)\n",
        "\n",
        "# Seq2Seq модель\n",
        "model = Model([encoder_inputs, decoder_inputs], decoder_outputs)\n",
        "model.compile(optimizer='rmsprop', loss='categorical_crossentropy', metrics=['accuracy'])\n",
        "\n",
        "### 5. Обучение модели\n",
        "epochs = 32\n",
        "batch_size = 64\n",
        "\n",
        "model.fit(\n",
        "    [encoder_input_train, decoder_input_train],\n",
        "    decoder_target_train,\n",
        "    batch_size=batch_size,\n",
        "    epochs=epochs,\n",
        "    validation_split=0.2\n",
        ")\n",
        "\n",
        "### 6. Оценка модели на тестовых данных\n",
        "model.evaluate([encoder_input_test, decoder_input_test], decoder_target_test)"
      ],
      "metadata": {
        "colab": {
          "base_uri": "https://localhost:8080/"
        },
        "id": "Ams83V_eoUCC",
        "outputId": "57ecfbfa-766c-4851-a7cf-2e8c57fa8ee2"
      },
      "execution_count": 2,
      "outputs": [
        {
          "output_type": "stream",
          "name": "stdout",
          "text": [
            "Epoch 1/32\n",
            "1/1 [==============================] - 5s 5s/step - loss: 5.5279 - accuracy: 0.0000e+00 - val_loss: 5.4960 - val_accuracy: 0.4706\n",
            "Epoch 2/32\n",
            "1/1 [==============================] - 0s 224ms/step - loss: 5.5049 - accuracy: 0.2794 - val_loss: 5.4644 - val_accuracy: 0.4706\n",
            "Epoch 3/32\n",
            "1/1 [==============================] - 0s 190ms/step - loss: 5.4845 - accuracy: 0.2843 - val_loss: 5.4254 - val_accuracy: 0.4706\n",
            "Epoch 4/32\n",
            "1/1 [==============================] - 0s 177ms/step - loss: 5.4599 - accuracy: 0.2794 - val_loss: 5.3661 - val_accuracy: 0.4706\n",
            "Epoch 5/32\n",
            "1/1 [==============================] - 0s 220ms/step - loss: 5.4230 - accuracy: 0.2745 - val_loss: 5.2472 - val_accuracy: 0.4706\n",
            "Epoch 6/32\n",
            "1/1 [==============================] - 0s 179ms/step - loss: 5.3477 - accuracy: 0.2745 - val_loss: 4.8732 - val_accuracy: 0.4706\n",
            "Epoch 7/32\n",
            "1/1 [==============================] - 0s 217ms/step - loss: 5.0956 - accuracy: 0.2745 - val_loss: 3.5918 - val_accuracy: 0.4706\n",
            "Epoch 8/32\n",
            "1/1 [==============================] - 0s 184ms/step - loss: 4.2923 - accuracy: 0.2745 - val_loss: 3.1637 - val_accuracy: 0.4706\n",
            "Epoch 9/32\n",
            "1/1 [==============================] - 0s 180ms/step - loss: 4.4365 - accuracy: 0.2745 - val_loss: 3.8637 - val_accuracy: 0.4706\n",
            "Epoch 10/32\n",
            "1/1 [==============================] - 0s 167ms/step - loss: 4.3448 - accuracy: 0.2745 - val_loss: 3.2251 - val_accuracy: 0.4706\n",
            "Epoch 11/32\n",
            "1/1 [==============================] - 0s 127ms/step - loss: 4.1139 - accuracy: 0.2745 - val_loss: 3.3748 - val_accuracy: 0.4706\n",
            "Epoch 12/32\n",
            "1/1 [==============================] - 0s 121ms/step - loss: 4.0535 - accuracy: 0.2745 - val_loss: 3.2874 - val_accuracy: 0.4706\n",
            "Epoch 13/32\n",
            "1/1 [==============================] - 0s 202ms/step - loss: 4.0134 - accuracy: 0.2745 - val_loss: 3.3388 - val_accuracy: 0.4706\n",
            "Epoch 14/32\n",
            "1/1 [==============================] - 0s 223ms/step - loss: 3.9806 - accuracy: 0.2745 - val_loss: 3.3088 - val_accuracy: 0.4706\n",
            "Epoch 15/32\n",
            "1/1 [==============================] - 0s 220ms/step - loss: 3.9511 - accuracy: 0.2745 - val_loss: 3.3472 - val_accuracy: 0.4706\n",
            "Epoch 16/32\n",
            "1/1 [==============================] - 0s 141ms/step - loss: 3.9242 - accuracy: 0.2745 - val_loss: 3.3243 - val_accuracy: 0.4706\n",
            "Epoch 17/32\n",
            "1/1 [==============================] - 0s 116ms/step - loss: 3.8993 - accuracy: 0.2745 - val_loss: 3.3748 - val_accuracy: 0.4706\n",
            "Epoch 18/32\n",
            "1/1 [==============================] - 0s 111ms/step - loss: 3.8767 - accuracy: 0.2745 - val_loss: 3.3315 - val_accuracy: 0.4706\n",
            "Epoch 19/32\n",
            "1/1 [==============================] - 0s 132ms/step - loss: 3.8571 - accuracy: 0.2745 - val_loss: 3.4468 - val_accuracy: 0.4706\n",
            "Epoch 20/32\n",
            "1/1 [==============================] - 0s 118ms/step - loss: 3.8466 - accuracy: 0.2745 - val_loss: 3.3274 - val_accuracy: 0.4706\n",
            "Epoch 21/32\n",
            "1/1 [==============================] - 0s 132ms/step - loss: 3.8693 - accuracy: 0.2745 - val_loss: 3.6996 - val_accuracy: 0.4706\n",
            "Epoch 22/32\n",
            "1/1 [==============================] - 0s 125ms/step - loss: 3.9447 - accuracy: 0.2794 - val_loss: 3.4279 - val_accuracy: 0.4706\n",
            "Epoch 23/32\n",
            "1/1 [==============================] - 0s 118ms/step - loss: 3.9589 - accuracy: 0.2745 - val_loss: 3.6185 - val_accuracy: 0.4706\n",
            "Epoch 24/32\n",
            "1/1 [==============================] - 0s 119ms/step - loss: 3.8505 - accuracy: 0.2794 - val_loss: 3.4382 - val_accuracy: 0.4706\n",
            "Epoch 25/32\n",
            "1/1 [==============================] - 0s 116ms/step - loss: 3.7960 - accuracy: 0.2745 - val_loss: 3.5194 - val_accuracy: 0.4706\n",
            "Epoch 26/32\n",
            "1/1 [==============================] - 0s 123ms/step - loss: 3.7711 - accuracy: 0.2794 - val_loss: 3.4561 - val_accuracy: 0.4706\n",
            "Epoch 27/32\n",
            "1/1 [==============================] - 0s 136ms/step - loss: 3.7540 - accuracy: 0.2794 - val_loss: 3.5173 - val_accuracy: 0.4706\n",
            "Epoch 28/32\n",
            "1/1 [==============================] - 0s 122ms/step - loss: 3.7401 - accuracy: 0.2794 - val_loss: 3.4639 - val_accuracy: 0.4706\n",
            "Epoch 29/32\n",
            "1/1 [==============================] - 0s 116ms/step - loss: 3.7302 - accuracy: 0.2794 - val_loss: 3.5692 - val_accuracy: 0.4706\n",
            "Epoch 30/32\n",
            "1/1 [==============================] - 0s 113ms/step - loss: 3.7308 - accuracy: 0.2892 - val_loss: 3.5001 - val_accuracy: 0.4706\n",
            "Epoch 31/32\n",
            "1/1 [==============================] - 0s 123ms/step - loss: 3.7699 - accuracy: 0.2794 - val_loss: 3.7476 - val_accuracy: 0.4706\n",
            "Epoch 32/32\n",
            "1/1 [==============================] - 0s 129ms/step - loss: 3.8232 - accuracy: 0.2892 - val_loss: 3.6205 - val_accuracy: 0.4706\n",
            "1/1 [==============================] - 0s 34ms/step - loss: 4.1040 - accuracy: 0.3882\n"
          ]
        },
        {
          "output_type": "execute_result",
          "data": {
            "text/plain": [
              "[4.103991508483887, 0.38823530077934265]"
            ]
          },
          "metadata": {},
          "execution_count": 2
        }
      ]
    },
    {
      "cell_type": "code",
      "source": [
        "NLP_model = model # скачивание модели\n",
        "NLP_model.save('NLP_model.h5')"
      ],
      "metadata": {
        "colab": {
          "base_uri": "https://localhost:8080/"
        },
        "id": "WW_bigT4rl34",
        "outputId": "6f30472f-d507-4426-9403-5aeadf1d0a05"
      },
      "execution_count": 3,
      "outputs": [
        {
          "output_type": "stream",
          "name": "stderr",
          "text": [
            "/usr/local/lib/python3.10/dist-packages/keras/src/engine/training.py:3103: UserWarning: You are saving your model as an HDF5 file via `model.save()`. This file format is considered legacy. We recommend using instead the native Keras format, e.g. `model.save('my_model.keras')`.\n",
            "  saving_api.save_model(\n"
          ]
        }
      ]
    },
    {
      "cell_type": "code",
      "source": [
        "# Сначала определим энкодер как отдельную модель\n",
        "encoder_model = Model(encoder_inputs, encoder_states)\n",
        "\n",
        "# Далее необходимо создать определение для декодера\n",
        "# Начальное состояние для декодера\n",
        "decoder_state_input_h = Input(shape=(units,))\n",
        "decoder_state_input_c = Input(shape=(units,))\n",
        "decoder_states_inputs = [decoder_state_input_h, decoder_state_input_c]\n",
        "\n",
        "# LSTM декодер с начальными состояниями\n",
        "decoder_outputs, state_h, state_c = decoder_lstm(decoder_embedding,\n",
        "                                                  initial_state=decoder_states_inputs)\n",
        "decoder_states = [state_h, state_c]\n",
        "decoder_outputs = decoder_dense(decoder_outputs)\n",
        "\n",
        "# Создание модели декодера\n",
        "decoder_model = Model(\n",
        "    [decoder_inputs] + decoder_states_inputs,\n",
        "    [decoder_outputs] + decoder_states\n",
        ")\n",
        "\n",
        "# Сохранение моделей\n",
        "encoder_model.save('encoder_model.h5')\n",
        "decoder_model.save('decoder_model.h5')"
      ],
      "metadata": {
        "colab": {
          "base_uri": "https://localhost:8080/"
        },
        "id": "CtoZGDUdo6iB",
        "outputId": "b41fbf8a-9549-48b3-9799-5387fd680909"
      },
      "execution_count": 31,
      "outputs": [
        {
          "output_type": "stream",
          "name": "stderr",
          "text": [
            "/usr/local/lib/python3.10/dist-packages/keras/src/engine/training.py:3103: UserWarning: You are saving your model as an HDF5 file via `model.save()`. This file format is considered legacy. We recommend using instead the native Keras format, e.g. `model.save('my_model.keras')`.\n",
            "  saving_api.save_model(\n",
            "WARNING:tensorflow:Compiled the loaded model, but the compiled metrics have yet to be built. `model.compile_metrics` will be empty until you train or evaluate the model.\n",
            "WARNING:tensorflow:Compiled the loaded model, but the compiled metrics have yet to be built. `model.compile_metrics` will be empty until you train or evaluate the model.\n"
          ]
        }
      ]
    },
    {
      "cell_type": "code",
      "source": [
        "from keras.models import load_model\n",
        "\n",
        "encoder_model = load_model('/content/encoder_model.h5')\n",
        "decoder_model = load_model('/content/decoder_model.h5')"
      ],
      "metadata": {
        "colab": {
          "base_uri": "https://localhost:8080/"
        },
        "id": "xiamwquBqfGf",
        "outputId": "8358c13d-8cb0-4781-88a9-7fa94d82150d"
      },
      "execution_count": 33,
      "outputs": [
        {
          "output_type": "stream",
          "name": "stderr",
          "text": [
            "WARNING:tensorflow:No training configuration found in the save file, so the model was *not* compiled. Compile it manually.\n",
            "WARNING:tensorflow:No training configuration found in the save file, so the model was *not* compiled. Compile it manually.\n"
          ]
        }
      ]
    },
    {
      "cell_type": "code",
      "source": [
        "def generate_answer(question):\n",
        "    # Препроцессинг входного вопроса\n",
        "    question_seq = tokenizer.texts_to_sequences([question])\n",
        "    question_seq = pad_sequences(question_seq, maxlen=200)\n",
        "\n",
        "    # Кодирование вопроса\n",
        "    states_values = encoder_model.predict(question_seq)\n",
        "\n",
        "    # Генерация пустого ответа с токеном начала последовательности\n",
        "    target_seq = np.zeros((1, 1))\n",
        "    target_seq[0, 0] = tokenizer.word_index['<startseq>']\n",
        "\n",
        "    # Флаг окончания генерации ответа\n",
        "    stop_condition = False\n",
        "    decoded_sentence = ''\n",
        "\n",
        "    while not stop_condition:\n",
        "        output_tokens, h, c = decoder_model.predict([target_seq] + states_values)\n",
        "\n",
        "        # Выбор следующего слова\n",
        "        sampled_token_index = np.argmax(output_tokens[0, -1, :])\n",
        "        sampled_word = None\n",
        "        for word, index in tokenizer.word_index.items():\n",
        "            if sampled_token_index == index:\n",
        "                if word != '<endseq>':\n",
        "                    decoded_sentence += ' '+word\n",
        "                sampled_word = word\n",
        "                break\n",
        "\n",
        "        # Обновление целевой последовательности (для следующего шага декодирования)\n",
        "        target_seq = np.zeros((1, 1))\n",
        "        target_seq[0, 0] = sampled_token_index\n",
        "\n",
        "        # Обновление состояния\n",
        "        states_values = [h, c]\n",
        "\n",
        "        # Проверка на завершение генерации (по достижении максимальной длины или токена конца)\n",
        "        if (sampled_word == '<endseq>' or len(decoded_sentence.split()) > 200):\n",
        "            stop_condition = True\n",
        "\n",
        "    return decoded_sentence"
      ],
      "metadata": {
        "id": "TkVkOXtyvqe6"
      },
      "execution_count": 42,
      "outputs": []
    },
    {
      "cell_type": "code",
      "source": [
        "while True:\n",
        "    user_question = input(\"Введите ваш вопрос: \")\n",
        "    if user_question.lower() == \"выход\":\n",
        "        print(\"До свидания!\")\n",
        "        break\n",
        "    answer = generate_answer(user_question)\n",
        "    print(\"Ответ:\", answer)"
      ],
      "metadata": {
        "colab": {
          "base_uri": "https://localhost:8080/",
          "height": 349
        },
        "id": "LqGY8uSevuMf",
        "outputId": "b6b6f250-00de-4f82-b512-0c42128a5090"
      },
      "execution_count": 43,
      "outputs": [
        {
          "output_type": "stream",
          "name": "stdout",
          "text": [
            "Введите ваш вопрос: <startseq>Как мне ускорить работу моего компьютера?<endseq>\n",
            "1/1 [==============================] - 0s 61ms/step\n"
          ]
        },
        {
          "output_type": "error",
          "ename": "KeyError",
          "evalue": "'<startseq>'",
          "traceback": [
            "\u001b[0;31m---------------------------------------------------------------------------\u001b[0m",
            "\u001b[0;31mKeyError\u001b[0m                                  Traceback (most recent call last)",
            "\u001b[0;32m<ipython-input-43-631eef8fe030>\u001b[0m in \u001b[0;36m<cell line: 1>\u001b[0;34m()\u001b[0m\n\u001b[1;32m      4\u001b[0m         \u001b[0mprint\u001b[0m\u001b[0;34m(\u001b[0m\u001b[0;34m\"До свидания!\"\u001b[0m\u001b[0;34m)\u001b[0m\u001b[0;34m\u001b[0m\u001b[0;34m\u001b[0m\u001b[0m\n\u001b[1;32m      5\u001b[0m         \u001b[0;32mbreak\u001b[0m\u001b[0;34m\u001b[0m\u001b[0;34m\u001b[0m\u001b[0m\n\u001b[0;32m----> 6\u001b[0;31m     \u001b[0manswer\u001b[0m \u001b[0;34m=\u001b[0m \u001b[0mgenerate_answer\u001b[0m\u001b[0;34m(\u001b[0m\u001b[0muser_question\u001b[0m\u001b[0;34m)\u001b[0m\u001b[0;34m\u001b[0m\u001b[0;34m\u001b[0m\u001b[0m\n\u001b[0m\u001b[1;32m      7\u001b[0m     \u001b[0mprint\u001b[0m\u001b[0;34m(\u001b[0m\u001b[0;34m\"Ответ:\"\u001b[0m\u001b[0;34m,\u001b[0m \u001b[0manswer\u001b[0m\u001b[0;34m)\u001b[0m\u001b[0;34m\u001b[0m\u001b[0;34m\u001b[0m\u001b[0m\n",
            "\u001b[0;32m<ipython-input-42-4b515c125c6f>\u001b[0m in \u001b[0;36mgenerate_answer\u001b[0;34m(question)\u001b[0m\n\u001b[1;32m      9\u001b[0m     \u001b[0;31m# Генерация пустого ответа с токеном начала последовательности\u001b[0m\u001b[0;34m\u001b[0m\u001b[0;34m\u001b[0m\u001b[0m\n\u001b[1;32m     10\u001b[0m     \u001b[0mtarget_seq\u001b[0m \u001b[0;34m=\u001b[0m \u001b[0mnp\u001b[0m\u001b[0;34m.\u001b[0m\u001b[0mzeros\u001b[0m\u001b[0;34m(\u001b[0m\u001b[0;34m(\u001b[0m\u001b[0;36m1\u001b[0m\u001b[0;34m,\u001b[0m \u001b[0;36m1\u001b[0m\u001b[0;34m)\u001b[0m\u001b[0;34m)\u001b[0m\u001b[0;34m\u001b[0m\u001b[0;34m\u001b[0m\u001b[0m\n\u001b[0;32m---> 11\u001b[0;31m     \u001b[0mtarget_seq\u001b[0m\u001b[0;34m[\u001b[0m\u001b[0;36m0\u001b[0m\u001b[0;34m,\u001b[0m \u001b[0;36m0\u001b[0m\u001b[0;34m]\u001b[0m \u001b[0;34m=\u001b[0m \u001b[0mtokenizer\u001b[0m\u001b[0;34m.\u001b[0m\u001b[0mword_index\u001b[0m\u001b[0;34m[\u001b[0m\u001b[0;34m'<startseq>'\u001b[0m\u001b[0;34m]\u001b[0m\u001b[0;34m\u001b[0m\u001b[0;34m\u001b[0m\u001b[0m\n\u001b[0m\u001b[1;32m     12\u001b[0m \u001b[0;34m\u001b[0m\u001b[0m\n\u001b[1;32m     13\u001b[0m     \u001b[0;31m# Флаг окончания генерации ответа\u001b[0m\u001b[0;34m\u001b[0m\u001b[0;34m\u001b[0m\u001b[0m\n",
            "\u001b[0;31mKeyError\u001b[0m: '<startseq>'"
          ]
        }
      ]
    }
  ]
}